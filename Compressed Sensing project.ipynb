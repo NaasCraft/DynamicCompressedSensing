{
 "cells": [
  {
   "cell_type": "markdown",
   "metadata": {},
   "source": [
    "# Project notes\n",
    "\n",
    "This notebook is purely intended as a scrap notebook, used for taking mathematical notes and testing code snippets.\n",
    "\n",
    "It should not be shared with the project itself, and should not be taken into account for evaluation."
   ]
  },
  {
   "cell_type": "markdown",
   "metadata": {},
   "source": [
    "[article PDF](https://arxiv.org/pdf/1205.4080.pdf)"
   ]
  },
  {
   "cell_type": "markdown",
   "metadata": {},
   "source": [
    "## TODO\n",
    "\n",
    "### Short paper\n",
    "\n",
    "LaTeX document, show essential points from the article as well as references (e.g. Belief Propagation, AMP)\n",
    "\n",
    "If possible, detail the algorithm steps and computation of update rules\n",
    "\n",
    "### Implementation\n",
    "\n",
    "- Find two-three testbeds: \n",
    "  - Theoretical (simulated) from the article first experiment\n",
    "  - Practical from the article (either MRI or audio)\n",
    "  - External practical testbed (videosurveillance enhancement ? video compression scheme ?)\n",
    "\n",
    "\n",
    "- Find possible ready-made implementations:\n",
    "  - For Kalman filters\n",
    "  - For Belief Propagation ?\n",
    "  - For Basis Pursuit\n",
    "\n",
    "\n",
    "- Implement the full DCS-AMP algorithm:\n",
    "  - First using the underlying Bernouilli Gaussian signal model (DCS-BG-AMP)\n",
    "  - Then (if time) allowing the Bernouilli Gaussian-mixture signal model (DCS-GM-AMP)\n",
    " \n",
    "\n",
    "- Compare algorithms on the testbed(s) from the article\n",
    "- Attempt to show interesting results on the external testbed"
   ]
  },
  {
   "cell_type": "code",
   "execution_count": null,
   "metadata": {
    "collapsed": true
   },
   "outputs": [],
   "source": []
  }
 ],
 "metadata": {
  "kernelspec": {
   "display_name": "Python 3",
   "language": "python",
   "name": "python3"
  },
  "language_info": {
   "codemirror_mode": {
    "name": "ipython",
    "version": 3
   },
   "file_extension": ".py",
   "mimetype": "text/x-python",
   "name": "python",
   "nbconvert_exporter": "python",
   "pygments_lexer": "ipython3",
   "version": "3.6.1"
  }
 },
 "nbformat": 4,
 "nbformat_minor": 2
}
